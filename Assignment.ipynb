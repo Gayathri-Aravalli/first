{
  "nbformat": 4,
  "nbformat_minor": 0,
  "metadata": {
    "colab": {
      "name": "Assignment",
      "version": "0.3.2",
      "provenance": [],
      "include_colab_link": true
    },
    "kernelspec": {
      "name": "python3",
      "display_name": "Python 3"
    }
  },
  "cells": [
    {
      "cell_type": "markdown",
      "metadata": {
        "id": "view-in-github",
        "colab_type": "text"
      },
      "source": [
        "<a href=\"https://colab.research.google.com/github/Gayathri-Aravalli/first/blob/master/Assignment.ipynb\" target=\"_parent\"><img src=\"https://colab.research.google.com/assets/colab-badge.svg\" alt=\"Open In Colab\"/></a>"
      ]
    },
    {
      "cell_type": "code",
      "metadata": {
        "id": "qDaKLnspzCfT",
        "colab_type": "code",
        "colab": {
          "base_uri": "https://localhost:8080/",
          "height": 51
        },
        "outputId": "fc05cfd1-e882-417d-8701-5a4adada13de"
      },
      "source": [
        "# Leap year or not\n",
        "y = int(input(\"Enter year - \"))\n",
        "if y%4==0 :\n",
        "  print(\"Leap year\")\n",
        "elif y%4!=0 :\n",
        "  print(\"Not a leap year\")\n"
      ],
      "execution_count": 4,
      "outputs": [
        {
          "output_type": "stream",
          "text": [
            "Enter year - 2012\n",
            "Leap year\n"
          ],
          "name": "stdout"
        }
      ]
    },
    {
      "cell_type": "code",
      "metadata": {
        "id": "mxij6uwb0OKN",
        "colab_type": "code",
        "colab": {
          "base_uri": "https://localhost:8080/",
          "height": 51
        },
        "outputId": "a648b64f-3be0-4360-aa29-abc8d13edb4a"
      },
      "source": [
        "# week number - week day\n",
        "i = int(input(\"Enter number - \"))\n",
        "if i==1 :\n",
        "  print(\"Monday\")\n",
        "elif i==2 :\n",
        "  print(\"Tuesday\")\n",
        "elif i==3 :\n",
        "  print(\"Wednesday\")\n",
        "elif i==4 :\n",
        "  print(\"Thursday\")\n",
        "elif i==5 :\n",
        "  print(\"Friday\")\n",
        "elif i==6 :\n",
        "  print(\"Saturday\")\n",
        "elif i==7 :\n",
        "  print(\"Sunday\")\n"
      ],
      "execution_count": 5,
      "outputs": [
        {
          "output_type": "stream",
          "text": [
            "Enter number - 5\n",
            "Friday\n"
          ],
          "name": "stdout"
        }
      ]
    },
    {
      "cell_type": "code",
      "metadata": {
        "id": "Ozd42vx21Pdv",
        "colab_type": "code",
        "colab": {
          "base_uri": "https://localhost:8080/",
          "height": 102
        },
        "outputId": "1c3be1c2-a0a2-4a0b-87e7-de83a8449232"
      },
      "source": [
        "# Largest of 3 no.s\n",
        "a = int(input(\"Enter a - \"))\n",
        "b = int(input(\"Enter b - \"))\n",
        "c = int(input(\"Enter c - \"))\n",
        "print(\"Greater of all - \")\n",
        "if a>b and a>c :\n",
        "  print(a)\n",
        "elif b>a and b>c :\n",
        "  print(b)\n",
        "elif c>a and c>b :\n",
        "  print(c)\n"
      ],
      "execution_count": 8,
      "outputs": [
        {
          "output_type": "stream",
          "text": [
            "Enter a - 10\n",
            "Enter b - 45\n",
            "Enter c - 35\n",
            "Greater of all - \n",
            "45\n"
          ],
          "name": "stdout"
        }
      ]
    },
    {
      "cell_type": "code",
      "metadata": {
        "id": "o0bkvGbX2xL8",
        "colab_type": "code",
        "colab": {
          "base_uri": "https://localhost:8080/",
          "height": 51
        },
        "outputId": "4b45351d-3961-4040-f572-ddfb434b90b2"
      },
      "source": [
        "# Sum of n no.s\n",
        "n = int(input(\"Enter number of terms - \"))\n",
        "sum = (n * (n+1)) / 2\n",
        "print(\"Sum of numbers - \", sum)\n"
      ],
      "execution_count": 9,
      "outputs": [
        {
          "output_type": "stream",
          "text": [
            "Enter number of terms - 10\n",
            "Sum of numbers -  55.0\n"
          ],
          "name": "stdout"
        }
      ]
    },
    {
      "cell_type": "code",
      "metadata": {
        "id": "w6tpHNYY3rhF",
        "colab_type": "code",
        "colab": {
          "base_uri": "https://localhost:8080/",
          "height": 51
        },
        "outputId": "423c5728-0f3e-4c9b-ae45-6fa02f59b56b"
      },
      "source": [
        "# sum of odd no.s in series\n",
        "n = int(input(\"Enter number of terms - \"))\n",
        "sum = n * n\n",
        "print(\"Sum = \", sum)\n"
      ],
      "execution_count": 10,
      "outputs": [
        {
          "output_type": "stream",
          "text": [
            "Enter number of terms - 4\n",
            "Sum =  16\n"
          ],
          "name": "stdout"
        }
      ]
    },
    {
      "cell_type": "code",
      "metadata": {
        "id": "f-LRLPMb5BaG",
        "colab_type": "code",
        "colab": {
          "base_uri": "https://localhost:8080/",
          "height": 136
        },
        "outputId": "e7c4f657-e712-4f31-be67-b4a277cb2162"
      },
      "source": [
        "# sum and average of given series \n",
        "n = int(input(\"Enter number of terms - \"))\n",
        "i = 1\n",
        "sum = 0\n",
        "while(i<=n) :\n",
        "  x = int(input(\"no. = \"))\n",
        "  sum = sum + x\n",
        "  i = i + 1\n",
        "avg = sum / n\n",
        "print(\"Sum = \",sum, \" Average = \",avg)\n"
      ],
      "execution_count": 13,
      "outputs": [
        {
          "output_type": "stream",
          "text": [
            "Enter number of terms - 5\n",
            "no. = 1\n",
            "no. = 2\n",
            "no. = 3\n",
            "no. = 4\n",
            "no. = 5\n",
            "Sum =  15  Average =  3.0\n"
          ],
          "name": "stdout"
        }
      ]
    },
    {
      "cell_type": "code",
      "metadata": {
        "id": "WHjjFL9W7A3q",
        "colab_type": "code",
        "colab": {
          "base_uri": "https://localhost:8080/",
          "height": 85
        },
        "outputId": "b729c52b-625f-419b-bc51-5c389b53bf9a"
      },
      "source": [
        "# Roots of quadratic equation \n",
        "a = int(input(\"Enter coefficient of x^2 - \"))\n",
        "b = int(input(\"Enter coefficient of x - \"))\n",
        "c = int(input(\"Enter constant - \"))\n",
        "if ((b*b)-(4*a*c))<0 :\n",
        "  print(\"Roots are imaginary\")\n",
        "else :\n",
        "  root1 = ((-b) + (b*b)-(4*a*c))**(1/2)/2*a\n",
        "  root2 = ((-b) - (b*b)-(4*a*c))**(1/2)/2*a\n",
        "  print(\"Roots : \",root1, \" \",root2)\n"
      ],
      "execution_count": 20,
      "outputs": [
        {
          "output_type": "stream",
          "text": [
            "Enter coefficient of x^2 - 1\n",
            "Enter coefficient of x - 4\n",
            "Enter constant - 4\n",
            "Roots :  (6.123233995736766e-17+1j)   (1.8369701987210297e-16+3j)\n"
          ],
          "name": "stdout"
        }
      ]
    },
    {
      "cell_type": "code",
      "metadata": {
        "id": "kN-w7K9o7eCw",
        "colab_type": "code",
        "colab": {
          "base_uri": "https://localhost:8080/",
          "height": 85
        },
        "outputId": "73bb7c6a-ef28-4677-c1e8-74cb4c30c5f0"
      },
      "source": [
        "# Divisors of a number - Factors\n",
        "n = int(input(\"Enter a number - \"))\n",
        "x = 1\n",
        "while(x<=n):\n",
        "  if n%x==0 :\n",
        "    print(x)\n",
        "  x= x + 1\n"
      ],
      "execution_count": 22,
      "outputs": [
        {
          "output_type": "stream",
          "text": [
            "Enter a number - 4\n",
            "1\n",
            "2\n",
            "4\n"
          ],
          "name": "stdout"
        }
      ]
    },
    {
      "cell_type": "code",
      "metadata": {
        "id": "UVM5zqZ5_HwN",
        "colab_type": "code",
        "colab": {
          "base_uri": "https://localhost:8080/",
          "height": 85
        },
        "outputId": "c98a5b2c-ed0e-41bc-b6cd-f72412d39b0c"
      },
      "source": [
        "# Triangle validity\n",
        "a = int(input(\"Enter side a - \"))\n",
        "b = int(input(\"Enter side b - \"))\n",
        "c = int(input(\"Enter side c - \"))\n",
        "if (a+b)>c :\n",
        "  print(\"Triangle is valid\")\n",
        "else :\n",
        "  print(\"Triangle is not valid\")\n"
      ],
      "execution_count": 23,
      "outputs": [
        {
          "output_type": "stream",
          "text": [
            "Enter side a - 3 \n",
            "Enter side b - 4\n",
            "Enter side c - 5\n",
            "Triangle is valid\n"
          ],
          "name": "stdout"
        }
      ]
    },
    {
      "cell_type": "code",
      "metadata": {
        "id": "ogifSjMf_qQX",
        "colab_type": "code",
        "colab": {
          "base_uri": "https://localhost:8080/",
          "height": 51
        },
        "outputId": "9cba1b42-d5e1-4472-d3f7-cee1077806b3"
      },
      "source": [
        "# Celsius to Fahrenheit\n",
        "c = int(input(\"Enter temp. in C - \"))\n",
        "f = (c * 1.8) + 32\n",
        "print(\"temp. in F = \",f)\n"
      ],
      "execution_count": 25,
      "outputs": [
        {
          "output_type": "stream",
          "text": [
            "Enter temp. in C - 25\n",
            "temp. in F =  77.0\n"
          ],
          "name": "stdout"
        }
      ]
    },
    {
      "cell_type": "code",
      "metadata": {
        "id": "iNoSQo1Q_-Ki",
        "colab_type": "code",
        "colab": {}
      },
      "source": [
        ""
      ],
      "execution_count": 0,
      "outputs": []
    }
  ]
}