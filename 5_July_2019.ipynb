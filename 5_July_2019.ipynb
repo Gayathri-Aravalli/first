{
  "nbformat": 4,
  "nbformat_minor": 0,
  "metadata": {
    "colab": {
      "name": "5 July 2019",
      "version": "0.3.2",
      "provenance": [],
      "collapsed_sections": [],
      "include_colab_link": true
    },
    "kernelspec": {
      "name": "python3",
      "display_name": "Python 3"
    }
  },
  "cells": [
    {
      "cell_type": "markdown",
      "metadata": {
        "id": "view-in-github",
        "colab_type": "text"
      },
      "source": [
        "<a href=\"https://colab.research.google.com/github/Gayathri-Aravalli/first/blob/master/5_July_2019.ipynb\" target=\"_parent\"><img src=\"https://colab.research.google.com/assets/colab-badge.svg\" alt=\"Open In Colab\"/></a>"
      ]
    },
    {
      "cell_type": "code",
      "metadata": {
        "id": "smWZz-EF3EQy",
        "colab_type": "code",
        "colab": {}
      },
      "source": [
        ""
      ],
      "execution_count": 0,
      "outputs": []
    },
    {
      "cell_type": "markdown",
      "metadata": {
        "id": "-TDQ9qD73Lcg",
        "colab_type": "text"
      },
      "source": [
        "#Markdown Basics\n",
        "##Markdown Basics\n",
        "###Markdown Basics\n",
        "####Markdown Basics\n",
        "\n",
        "\n",
        "\n",
        "*   **point1** (bold)\n",
        "*   *point2* (italic)\n",
        "*   ***point3*** (bold and italic)\n",
        "\n",
        "\n",
        "\n",
        "*   Noramal text\n",
        "    * Sublist 1\n",
        "    * sublist 2\n",
        "    \n",
        "    > 1. point1\n",
        "    > 2. point2\n",
        "    \n",
        "\n",
        "***Adding links to markdown***\n",
        "\n",
        "  * Google site --- [1.] : https://www.google.com \n",
        "  * ask -- [2.] : https://www.ask.com\n",
        "  \n",
        "  \n",
        "\n",
        "\n",
        "\n",
        "\n",
        "\n"
      ]
    },
    {
      "cell_type": "code",
      "metadata": {
        "id": "1IaUnECv4sAO",
        "colab_type": "code",
        "colab": {
          "base_uri": "https://localhost:8080/",
          "height": 51
        },
        "outputId": "c67b2150-89ba-43e3-e7df-d5cd216b0e63"
      },
      "source": [
        "print(\"Hello, Gitam\")\n",
        "print(\"Hyderabad\")"
      ],
      "execution_count": 1,
      "outputs": [
        {
          "output_type": "stream",
          "text": [
            "Hello, Gitam\n",
            "Hyderabad\n"
          ],
          "name": "stdout"
        }
      ]
    },
    {
      "cell_type": "code",
      "metadata": {
        "id": "49YKBLtc4-iO",
        "colab_type": "code",
        "colab": {
          "base_uri": "https://localhost:8080/",
          "height": 34
        },
        "outputId": "1c1787b7-7ccd-415e-af48-7c68fc18d33c"
      },
      "source": [
        "print(\"Hello, Gitam\", \" ||| \", end = \" \")\n",
        "print(\"Hyderabad\",end=\" ||| \")\n",
        "print(\"Python programming\")"
      ],
      "execution_count": 2,
      "outputs": [
        {
          "output_type": "stream",
          "text": [
            "Hello, Gitam  |||  Hyderabad ||| Python programming\n"
          ],
          "name": "stdout"
        }
      ]
    },
    {
      "cell_type": "code",
      "metadata": {
        "id": "up1P50LL5nGe",
        "colab_type": "code",
        "colab": {
          "base_uri": "https://localhost:8080/",
          "height": 68
        },
        "outputId": "dc77d14a-5de5-445b-d4db-7418bfd55d89"
      },
      "source": [
        "n1 = 100  # single variable assignment\n",
        "a = b = c = 20  # multi variable assignment\n",
        "a1,b1,c1 = 111,222,333  # multi variable assignment with different values\n",
        "print(n1)\n",
        "print(a,b,c)\n",
        "print(a1,b1,c1)"
      ],
      "execution_count": 5,
      "outputs": [
        {
          "output_type": "stream",
          "text": [
            "100\n",
            "20 20 20\n",
            "111 222 333\n"
          ],
          "name": "stdout"
        }
      ]
    },
    {
      "cell_type": "markdown",
      "metadata": {
        "id": "T4AaeZ2h7KMr",
        "colab_type": "text"
      },
      "source": [
        "### Data types and conversions\n",
        "\n",
        "*   int\n",
        "*   float\n",
        "*   string\n",
        "\n",
        "\n",
        "\n"
      ]
    },
    {
      "cell_type": "code",
      "metadata": {
        "id": "g1hG7Vm_7vzI",
        "colab_type": "code",
        "colab": {
          "base_uri": "https://localhost:8080/",
          "height": 153
        },
        "outputId": "fa5042f3-d6d1-4813-b2c1-ee485c35718c"
      },
      "source": [
        "a = 100\n",
        "s1 = \"python\"\n",
        "s2 = 'P'\n",
        "f1 = 10.2\n",
        "print(a)\n",
        "print(s1)\n",
        "print(s2,f1)\n",
        "print(type(a))\n",
        "print(type(s1))\n",
        "print(type(s2))\n",
        "print(type(f1))\n",
        "print(type(a), type(s1), type(f1))\n"
      ],
      "execution_count": 9,
      "outputs": [
        {
          "output_type": "stream",
          "text": [
            "100\n",
            "python\n",
            "P 10.2\n",
            "<class 'int'>\n",
            "<class 'str'>\n",
            "<class 'str'>\n",
            "<class 'float'>\n",
            "<class 'int'> <class 'str'> <class 'float'>\n"
          ],
          "name": "stdout"
        }
      ]
    },
    {
      "cell_type": "code",
      "metadata": {
        "id": "JbuJz1pg9FA1",
        "colab_type": "code",
        "colab": {
          "base_uri": "https://localhost:8080/",
          "height": 68
        },
        "outputId": "ed049b0a-e386-44c7-d96a-4baaa3b1ab8e"
      },
      "source": [
        "i = 100\n",
        "print(type(i))\n",
        "s1 = str(i)\n",
        "print(type(s1))\n",
        "f1=float(i)\n",
        "print(type(f1))\n"
      ],
      "execution_count": 10,
      "outputs": [
        {
          "output_type": "stream",
          "text": [
            "<class 'int'>\n",
            "<class 'str'>\n",
            "<class 'float'>\n"
          ],
          "name": "stdout"
        }
      ]
    },
    {
      "cell_type": "code",
      "metadata": {
        "id": "SAOC0tCNTv8f",
        "colab_type": "code",
        "colab": {
          "base_uri": "https://localhost:8080/",
          "height": 85
        },
        "outputId": "88da5777-bf61-428e-ba92-8d42416fc608"
      },
      "source": [
        "s1 = \"100\"\n",
        "print(type(s1))\n",
        "a = int(s1)\n",
        "print(type(a))\n",
        "f = 1.5\n",
        "a1 = int(f)\n",
        "print(type(a1))\n",
        "print(a1)"
      ],
      "execution_count": 13,
      "outputs": [
        {
          "output_type": "stream",
          "text": [
            "<class 'str'>\n",
            "<class 'int'>\n",
            "<class 'int'>\n",
            "1\n"
          ],
          "name": "stdout"
        }
      ]
    },
    {
      "cell_type": "code",
      "metadata": {
        "id": "xeBioVH7VUkY",
        "colab_type": "code",
        "colab": {
          "base_uri": "https://localhost:8080/",
          "height": 34
        },
        "outputId": "db21b852-498a-427e-ca26-1255e7438624"
      },
      "source": [
        "# a number is given 1234 - \n",
        "# digit count\n",
        "a1 = 1234\n",
        "print(len(str(a1)))\n"
      ],
      "execution_count": 14,
      "outputs": [
        {
          "output_type": "stream",
          "text": [
            "4\n"
          ],
          "name": "stdout"
        }
      ]
    },
    {
      "cell_type": "markdown",
      "metadata": {
        "id": "Szc2LeQvWzUx",
        "colab_type": "text"
      },
      "source": [
        "Reading a value\n",
        "\n",
        ". input(\"Message\") -- string"
      ]
    },
    {
      "cell_type": "code",
      "metadata": {
        "id": "AG2H3wR7W-ew",
        "colab_type": "code",
        "colab": {
          "base_uri": "https://localhost:8080/",
          "height": 68
        },
        "outputId": "0f7503f4-4d61-4780-98d9-0cee14f7ceb5"
      },
      "source": [
        "s1 = input(\"Enter your name\")\n",
        "print(s1)\n",
        "print(type(s1))\n"
      ],
      "execution_count": 15,
      "outputs": [
        {
          "output_type": "stream",
          "text": [
            "Enter your nameAG\n",
            "AG\n",
            "<class 'str'>\n"
          ],
          "name": "stdout"
        }
      ]
    },
    {
      "cell_type": "code",
      "metadata": {
        "id": "yOM4wlZuYRYe",
        "colab_type": "code",
        "colab": {
          "base_uri": "https://localhost:8080/",
          "height": 51
        },
        "outputId": "5b00257b-b250-431d-a23b-d2b3dd968b0d"
      },
      "source": [
        "n1 = int(input(\"Enter your number - \"))\n",
        "print(n1,type(n1))\n"
      ],
      "execution_count": 17,
      "outputs": [
        {
          "output_type": "stream",
          "text": [
            "Enter your number - 12334567890\n",
            "12334567890 <class 'int'>\n"
          ],
          "name": "stdout"
        }
      ]
    },
    {
      "cell_type": "markdown",
      "metadata": {
        "id": "ntVVwhCQZJGp",
        "colab_type": "text"
      },
      "source": [
        "##Operators \n",
        "* Operator is a symbol used to perform a specific kind of operations\n",
        "###Arithmetic Operators\n",
        "- +\n",
        "- /\n",
        "- -\n",
        "- *\n",
        "- %\n",
        "- **\n",
        "- //\n"
      ]
    },
    {
      "cell_type": "code",
      "metadata": {
        "id": "xUPnGp6-Zxkg",
        "colab_type": "code",
        "colab": {
          "base_uri": "https://localhost:8080/",
          "height": 136
        },
        "outputId": "4a0d8236-cfac-4a6c-d0e3-260c90e91f69"
      },
      "source": [
        "n1 = 1234\n",
        "print(n1+10)\n",
        "print(n1-10)\n",
        "print(n1*10)\n",
        "print(n1/10)  # quotient in float \n",
        "print(n1%10)  # remainder\n",
        "print(n1//10)  # quotient in int\n",
        "print(n1**10)  # exponent"
      ],
      "execution_count": 18,
      "outputs": [
        {
          "output_type": "stream",
          "text": [
            "1244\n",
            "1224\n",
            "12340\n",
            "123.4\n",
            "4\n",
            "123\n",
            "8187505353567209228244052427776\n"
          ],
          "name": "stdout"
        }
      ]
    },
    {
      "cell_type": "markdown",
      "metadata": {
        "id": "lKwvGQRCcyr_",
        "colab_type": "text"
      },
      "source": [
        "### Precedence of operators\n",
        "\n",
        "- Parenthesis\n",
        "- Power\n",
        "- Multiplication\n",
        "- Addition\n",
        "\n",
        "##Left to right\n"
      ]
    },
    {
      "cell_type": "code",
      "metadata": {
        "id": "8GIvBywadDea",
        "colab_type": "code",
        "colab": {
          "base_uri": "https://localhost:8080/",
          "height": 34
        },
        "outputId": "5d03c611-3da6-4514-c478-417bb7accd5a"
      },
      "source": [
        "x = 1 + 2 ** 3 / 4 + 5 \n",
        "# 1 + 8 / 4 + 5\n",
        "# 1 + 2.0 + 5\n",
        "# Power, division, Addition\n",
        "print(x)\n"
      ],
      "execution_count": 19,
      "outputs": [
        {
          "output_type": "stream",
          "text": [
            "8.0\n"
          ],
          "name": "stdout"
        }
      ]
    },
    {
      "cell_type": "code",
      "metadata": {
        "id": "KX-CNWkDd6I4",
        "colab_type": "code",
        "colab": {
          "base_uri": "https://localhost:8080/",
          "height": 34
        },
        "outputId": "6bfee176-5e9f-4f5e-9bb4-cc640c297230"
      },
      "source": [
        "x = 1 + 2 ** 3 / 4 * 5\n",
        "# Power, division, Multiplication, Addition\n",
        "print(x)\n"
      ],
      "execution_count": 22,
      "outputs": [
        {
          "output_type": "stream",
          "text": [
            "11.0\n"
          ],
          "name": "stdout"
        }
      ]
    },
    {
      "cell_type": "markdown",
      "metadata": {
        "id": "eGh5GO3fehR-",
        "colab_type": "text"
      },
      "source": [
        "### Relational Operators\n",
        "( true or false )\n",
        "- ==\n",
        "- != \n",
        "- Greater ( > )\n",
        "- Less tha ( < )\n",
        "- Less than or equal to ( <= )\n",
        "- Greater than or equal to ( >= )\n"
      ]
    },
    {
      "cell_type": "code",
      "metadata": {
        "id": "RA5NT6stjr3g",
        "colab_type": "code",
        "colab": {
          "base_uri": "https://localhost:8080/",
          "height": 34
        },
        "outputId": "125aceb0-ed06-4d80-d34d-ccb6f4447d83"
      },
      "source": [
        "x = 10\n",
        "a1 = x > 15\n",
        "print(a1)\n"
      ],
      "execution_count": 23,
      "outputs": [
        {
          "output_type": "stream",
          "text": [
            "False\n"
          ],
          "name": "stdout"
        }
      ]
    },
    {
      "cell_type": "markdown",
      "metadata": {
        "id": "RRHMo4qPkKzv",
        "colab_type": "text"
      },
      "source": [
        "### Conditional Operators\n",
        "\n",
        "Used to combine more than single condition\n",
        "\n",
        "* and \n",
        "* or \n",
        "* not\n"
      ]
    },
    {
      "cell_type": "code",
      "metadata": {
        "id": "ujq7P3dGk2oi",
        "colab_type": "code",
        "colab": {
          "base_uri": "https://localhost:8080/",
          "height": 51
        },
        "outputId": "ccf184d7-ba69-44d2-e43b-39693c5e597d"
      },
      "source": [
        "i = 100\n",
        "a1 = (i>15) and (i<800)\n",
        "a2 = (i>15) and (i>800)\n",
        "print(a1)\n",
        "print(a2)\n"
      ],
      "execution_count": 24,
      "outputs": [
        {
          "output_type": "stream",
          "text": [
            "True\n",
            "False\n"
          ],
          "name": "stdout"
        }
      ]
    },
    {
      "cell_type": "markdown",
      "metadata": {
        "id": "lvVlO03olG_h",
        "colab_type": "text"
      },
      "source": [
        "##Control flow statements\n",
        "\n",
        "- Conditional statements \n",
        "- Looping statements \n",
        "\n",
        "#### if-else statement\n",
        "**Syntax**\n",
        "\n",
        "if boolean_condition: \n",
        "\n",
        "statements \n",
        "\n",
        "else :\n",
        "\n",
        "statements\n",
        "\n"
      ]
    },
    {
      "cell_type": "code",
      "metadata": {
        "id": "NrryhvFflqlt",
        "colab_type": "code",
        "colab": {
          "base_uri": "https://localhost:8080/",
          "height": 51
        },
        "outputId": "4cbd554b-b64d-45e7-b5ca-5d3d81e226ea"
      },
      "source": [
        "# To check given number is even or odd\n",
        "n = int(input(\"Enter a number - \"))\n",
        "if n % 2 == 0:\n",
        "    print(\"Even\")\n",
        "else :\n",
        "    print(\"Odd\")  # Indentation compulsory \n",
        "    "
      ],
      "execution_count": 25,
      "outputs": [
        {
          "output_type": "stream",
          "text": [
            "Enter a number - 2\n",
            "Even\n"
          ],
          "name": "stdout"
        }
      ]
    },
    {
      "cell_type": "code",
      "metadata": {
        "id": "emMk-aMGnMCj",
        "colab_type": "code",
        "colab": {
          "base_uri": "https://localhost:8080/",
          "height": 51
        },
        "outputId": "e52fc622-2629-449b-e6c9-372cbf2394df"
      },
      "source": [
        "# to check given number is a perfect multiple of 3 and 5\n",
        "n = int(input(\"Enter a number - \"))\n",
        "if n%3==0 and n%5==0 :\n",
        "      print(\"Yes\")\n",
        "else :\n",
        "      print(\"No\")"
      ],
      "execution_count": 30,
      "outputs": [
        {
          "output_type": "stream",
          "text": [
            "Enter a number - 15\n",
            "Yes\n"
          ],
          "name": "stdout"
        }
      ]
    },
    {
      "cell_type": "code",
      "metadata": {
        "id": "tcFJvbManxyD",
        "colab_type": "code",
        "colab": {
          "base_uri": "https://localhost:8080/",
          "height": 51
        },
        "outputId": "c2f489a7-d071-4f3c-8400-348f9336360b"
      },
      "source": [
        "# is given number positive, negative or zero\n",
        "n = int(input(\"Enter a number - \"))\n",
        "if n==0 :\n",
        "   print(\"Zero\")\n",
        "elif n>0 :  # else if \n",
        "  print(\"Positive number\")\n",
        "elif n<0 :\n",
        "  print(\"Negative number\")\n"
      ],
      "execution_count": 34,
      "outputs": [
        {
          "output_type": "stream",
          "text": [
            "Enter a number - 0\n",
            "Zero\n"
          ],
          "name": "stdout"
        }
      ]
    }
  ]
}