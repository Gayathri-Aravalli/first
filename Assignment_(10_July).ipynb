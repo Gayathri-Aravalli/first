{
  "nbformat": 4,
  "nbformat_minor": 0,
  "metadata": {
    "colab": {
      "name": "Assignment (10 July)",
      "version": "0.3.2",
      "provenance": [],
      "collapsed_sections": [],
      "include_colab_link": true
    },
    "kernelspec": {
      "name": "python3",
      "display_name": "Python 3"
    }
  },
  "cells": [
    {
      "cell_type": "markdown",
      "metadata": {
        "id": "view-in-github",
        "colab_type": "text"
      },
      "source": [
        "<a href=\"https://colab.research.google.com/github/Gayathri-Aravalli/first/blob/master/Assignment_(10_July).ipynb\" target=\"_parent\"><img src=\"https://colab.research.google.com/assets/colab-badge.svg\" alt=\"Open In Colab\"/></a>"
      ]
    },
    {
      "cell_type": "code",
      "metadata": {
        "id": "cYFaFhsUSfA9",
        "colab_type": "code",
        "colab": {
          "base_uri": "https://localhost:8080/",
          "height": 68
        },
        "outputId": "bb411925-664c-457f-a133-656093fe6776"
      },
      "source": [
        "# 1 - fibonacci in reverse\n",
        "\n",
        "def fib(n) :\n",
        "  x = 0\n",
        "  y = 1\n",
        "  \n",
        "  lst.append(x)\n",
        "  lst.append(y)\n",
        "  for i in range(3,n+1) :\n",
        "    a = x + y\n",
        "    x = y\n",
        "    y = a\n",
        "    lst.append(a)\n",
        "  print(lst)\n",
        "  return\n",
        "\n",
        "lst = []\n",
        "n = int(input(\"Enter no. of terms in series - \"))\n",
        "fib(n)\n",
        "lst.reverse()\n",
        "print(lst)\n"
      ],
      "execution_count": 12,
      "outputs": [
        {
          "output_type": "stream",
          "text": [
            "Enter no. of terms in series - 5\n",
            "[0, 1, 1, 2, 3]\n",
            "[3, 2, 1, 1, 0]\n"
          ],
          "name": "stdout"
        }
      ]
    },
    {
      "cell_type": "code",
      "metadata": {
        "id": "CZdmG8tuVHuu",
        "colab_type": "code",
        "colab": {
          "base_uri": "https://localhost:8080/",
          "height": 136
        },
        "outputId": "fffe9c28-bcf3-4d15-e6e2-601d24c4fb99"
      },
      "source": [
        "# 2 - Condition\n",
        "\n",
        "def con(n) :\n",
        "  lst = []\n",
        "  sum = 0\n",
        "  for i in range(1,n+1) :\n",
        "    z = input()\n",
        "    lst.append(z)\n",
        "  for i in range(len(lst)) :\n",
        "    if lst.count(lst[i])==1 :\n",
        "      sum = sum + int(lst[i])\n",
        "  \n",
        "  if sum == 0 :\n",
        "    return -1\n",
        "  else :\n",
        "    return sum\n",
        "    \n",
        "#lst = [1,2,3,2,5]\n",
        "#li = [1,2,1,2,1]\n",
        "n = int(input(\"Enter no. of terms - \"))\n",
        "con(n)\n",
        "\n",
        "\n"
      ],
      "execution_count": 31,
      "outputs": [
        {
          "output_type": "stream",
          "text": [
            "Enter no. of terms - 5\n",
            "1\n",
            "2\n",
            "1\n",
            "2\n",
            "1\n"
          ],
          "name": "stdout"
        },
        {
          "output_type": "execute_result",
          "data": {
            "text/plain": [
              "-1"
            ]
          },
          "metadata": {
            "tags": []
          },
          "execution_count": 31
        }
      ]
    },
    {
      "cell_type": "code",
      "metadata": {
        "id": "HYVm3xn5ZFW8",
        "colab_type": "code",
        "colab": {}
      },
      "source": [
        "# 3 - Simultaneous printing\n",
        "\n",
        "def func(a) :\n",
        "  for x in range(1,a) :\n",
        "    if s1[x] is false :\n",
        "      print(\"*\",s2[x])\n",
        "    elif s2[x] is false :\n",
        "      print(s1,\"*\")\n",
        "    else :\n",
        "      print(s1[x],s2[x])\n",
        "  return\n",
        "\n",
        "\n",
        "\n",
        "n1 = int(input(\"S1 length = \"))\n",
        "n2 = int(input(\"S2 length = \"))\n",
        "\n",
        "if n1 <= 100 and n1 >=1 and n2 <= 100 and n2 >=1 :\n",
        "  print(\"S1 : \")\n",
        "  str1 = input()\n",
        "  print(\"S2 : \")\n",
        "  str2 = input()\n",
        "else :\n",
        "  print(\"Wrong length\")\n",
        "\n",
        "if n1>n2 :\n",
        "  a = n1\n",
        "else :\n",
        "  a = n2\n",
        "func(a)\n",
        "\n",
        "\n"
      ],
      "execution_count": 0,
      "outputs": []
    },
    {
      "cell_type": "code",
      "metadata": {
        "id": "5k4AtLshgPN4",
        "colab_type": "code",
        "colab": {
          "base_uri": "https://localhost:8080/",
          "height": 401
        },
        "outputId": "44d8b2dc-c541-4b81-d4fa-8aaf3fe19a1b"
      },
      "source": [
        "def func(a) :\n",
        "  for x in range(0,a+1) :\n",
        "    if x >= len(s1) :\n",
        "      print(\"*\",s2[x])\n",
        "    elif x >= len(s2) :\n",
        "      print(s1[x],\"*\")\n",
        "    elif x < len(s1) and x < len(s2) :\n",
        "      print(s1[x],s2[x])\n",
        "    else :\n",
        "      break\n",
        "  return\n",
        "\n",
        "s1 = \"bad\"\n",
        "s2 = \"water\"\n",
        "\n",
        "if len(s1)>len(s2) :\n",
        "  a = len(s1)\n",
        "else :\n",
        "  a = len(s2)\n",
        "func(a)"
      ],
      "execution_count": 89,
      "outputs": [
        {
          "output_type": "stream",
          "text": [
            "b w\n",
            "a a\n",
            "d t\n",
            "* e\n",
            "* r\n"
          ],
          "name": "stdout"
        },
        {
          "output_type": "error",
          "ename": "IndexError",
          "evalue": "ignored",
          "traceback": [
            "\u001b[0;31m---------------------------------------------------------------------------\u001b[0m",
            "\u001b[0;31mIndexError\u001b[0m                                Traceback (most recent call last)",
            "\u001b[0;32m<ipython-input-89-4c067e537208>\u001b[0m in \u001b[0;36m<module>\u001b[0;34m()\u001b[0m\n\u001b[1;32m     18\u001b[0m \u001b[0;32melse\u001b[0m \u001b[0;34m:\u001b[0m\u001b[0;34m\u001b[0m\u001b[0;34m\u001b[0m\u001b[0m\n\u001b[1;32m     19\u001b[0m   \u001b[0ma\u001b[0m \u001b[0;34m=\u001b[0m \u001b[0mlen\u001b[0m\u001b[0;34m(\u001b[0m\u001b[0ms2\u001b[0m\u001b[0;34m)\u001b[0m\u001b[0;34m\u001b[0m\u001b[0;34m\u001b[0m\u001b[0m\n\u001b[0;32m---> 20\u001b[0;31m \u001b[0mfunc\u001b[0m\u001b[0;34m(\u001b[0m\u001b[0ma\u001b[0m\u001b[0;34m)\u001b[0m\u001b[0;34m\u001b[0m\u001b[0;34m\u001b[0m\u001b[0m\n\u001b[0m",
            "\u001b[0;32m<ipython-input-89-4c067e537208>\u001b[0m in \u001b[0;36mfunc\u001b[0;34m(a)\u001b[0m\n\u001b[1;32m      2\u001b[0m   \u001b[0;32mfor\u001b[0m \u001b[0mx\u001b[0m \u001b[0;32min\u001b[0m \u001b[0mrange\u001b[0m\u001b[0;34m(\u001b[0m\u001b[0;36m0\u001b[0m\u001b[0;34m,\u001b[0m\u001b[0ma\u001b[0m\u001b[0;34m+\u001b[0m\u001b[0;36m1\u001b[0m\u001b[0;34m)\u001b[0m \u001b[0;34m:\u001b[0m\u001b[0;34m\u001b[0m\u001b[0;34m\u001b[0m\u001b[0m\n\u001b[1;32m      3\u001b[0m     \u001b[0;32mif\u001b[0m \u001b[0mx\u001b[0m \u001b[0;34m>=\u001b[0m \u001b[0mlen\u001b[0m\u001b[0;34m(\u001b[0m\u001b[0ms1\u001b[0m\u001b[0;34m)\u001b[0m \u001b[0;34m:\u001b[0m\u001b[0;34m\u001b[0m\u001b[0;34m\u001b[0m\u001b[0m\n\u001b[0;32m----> 4\u001b[0;31m       \u001b[0mprint\u001b[0m\u001b[0;34m(\u001b[0m\u001b[0;34m\"*\"\u001b[0m\u001b[0;34m,\u001b[0m\u001b[0ms2\u001b[0m\u001b[0;34m[\u001b[0m\u001b[0mx\u001b[0m\u001b[0;34m]\u001b[0m\u001b[0;34m)\u001b[0m\u001b[0;34m\u001b[0m\u001b[0;34m\u001b[0m\u001b[0m\n\u001b[0m\u001b[1;32m      5\u001b[0m     \u001b[0;32melif\u001b[0m \u001b[0mx\u001b[0m \u001b[0;34m>=\u001b[0m \u001b[0mlen\u001b[0m\u001b[0;34m(\u001b[0m\u001b[0ms2\u001b[0m\u001b[0;34m)\u001b[0m \u001b[0;34m:\u001b[0m\u001b[0;34m\u001b[0m\u001b[0;34m\u001b[0m\u001b[0m\n\u001b[1;32m      6\u001b[0m       \u001b[0mprint\u001b[0m\u001b[0;34m(\u001b[0m\u001b[0ms1\u001b[0m\u001b[0;34m[\u001b[0m\u001b[0mx\u001b[0m\u001b[0;34m]\u001b[0m\u001b[0;34m,\u001b[0m\u001b[0;34m\"*\"\u001b[0m\u001b[0;34m)\u001b[0m\u001b[0;34m\u001b[0m\u001b[0;34m\u001b[0m\u001b[0m\n",
            "\u001b[0;31mIndexError\u001b[0m: string index out of range"
          ]
        }
      ]
    },
    {
      "cell_type": "code",
      "metadata": {
        "id": "a7Ztib0JaQl6",
        "colab_type": "code",
        "colab": {}
      },
      "source": [
        "# EXTRAAA\n",
        "if n1 <= 100 and n1 >=1 and n2 <= 100 and n2 >=1 :\n",
        "  print(\"S1 : \")\n",
        "  for i in range(1,n) :\n",
        "    z = input()\n",
        "    s1.append(z)\n",
        "  print(\"S2 : \")\n",
        "  for i in range(1,n) :\n",
        "    z = input()\n",
        "    s2.append(z)\n",
        "else :\n",
        "  print(\"Wrong length\")\n",
        "\n",
        "if n1>n2 :\n",
        "  a = n1\n",
        "else :\n",
        "  a = n2\n",
        "  \n",
        "\n",
        "func(a)"
      ],
      "execution_count": 0,
      "outputs": []
    },
    {
      "cell_type": "code",
      "metadata": {
        "id": "liiXfnlokgrK",
        "colab_type": "code",
        "colab": {
          "base_uri": "https://localhost:8080/",
          "height": 282
        },
        "outputId": "d0e8ba94-c960-409e-8dfe-072546326312"
      },
      "source": [
        "# 4 - longest word in string\n",
        "\n",
        "print(\"Enter string - \")\n",
        "str = input()\n",
        "li = str.split()\n",
        "print(li)\n",
        "\n",
        "for x in range(len(li)) :\n",
        "  if x == 0 :\n",
        "    long = li[0]\n",
        "  elif x == len(li) :\n",
        "    break\n",
        "  else :\n",
        "    if len(li[x]) < len(li[x+1]) :\n",
        "      long = li[x+1]\n",
        "print(\"Longest word = \", long)"
      ],
      "execution_count": 77,
      "outputs": [
        {
          "output_type": "stream",
          "text": [
            "Enter string - \n",
            "python programming is asdfg\n",
            "['python', 'programming', 'is', 'asdfg']\n"
          ],
          "name": "stdout"
        },
        {
          "output_type": "error",
          "ename": "IndexError",
          "evalue": "ignored",
          "traceback": [
            "\u001b[0;31m---------------------------------------------------------------------------\u001b[0m",
            "\u001b[0;31mIndexError\u001b[0m                                Traceback (most recent call last)",
            "\u001b[0;32m<ipython-input-77-20771788acb5>\u001b[0m in \u001b[0;36m<module>\u001b[0;34m()\u001b[0m\n\u001b[1;32m     11\u001b[0m     \u001b[0;32mbreak\u001b[0m\u001b[0;34m\u001b[0m\u001b[0;34m\u001b[0m\u001b[0m\n\u001b[1;32m     12\u001b[0m   \u001b[0;32melse\u001b[0m \u001b[0;34m:\u001b[0m\u001b[0;34m\u001b[0m\u001b[0;34m\u001b[0m\u001b[0m\n\u001b[0;32m---> 13\u001b[0;31m     \u001b[0;32mif\u001b[0m \u001b[0mlen\u001b[0m\u001b[0;34m(\u001b[0m\u001b[0mli\u001b[0m\u001b[0;34m[\u001b[0m\u001b[0mx\u001b[0m\u001b[0;34m]\u001b[0m\u001b[0;34m)\u001b[0m \u001b[0;34m<\u001b[0m \u001b[0mlen\u001b[0m\u001b[0;34m(\u001b[0m\u001b[0mli\u001b[0m\u001b[0;34m[\u001b[0m\u001b[0mx\u001b[0m\u001b[0;34m+\u001b[0m\u001b[0;36m1\u001b[0m\u001b[0;34m]\u001b[0m\u001b[0;34m)\u001b[0m \u001b[0;34m:\u001b[0m\u001b[0;34m\u001b[0m\u001b[0;34m\u001b[0m\u001b[0m\n\u001b[0m\u001b[1;32m     14\u001b[0m       \u001b[0mlong\u001b[0m \u001b[0;34m=\u001b[0m \u001b[0mli\u001b[0m\u001b[0;34m[\u001b[0m\u001b[0mx\u001b[0m\u001b[0;34m+\u001b[0m\u001b[0;36m1\u001b[0m\u001b[0;34m]\u001b[0m\u001b[0;34m\u001b[0m\u001b[0;34m\u001b[0m\u001b[0m\n\u001b[1;32m     15\u001b[0m \u001b[0mprint\u001b[0m\u001b[0;34m(\u001b[0m\u001b[0;34m\"Longest word = \"\u001b[0m\u001b[0;34m,\u001b[0m \u001b[0mlong\u001b[0m\u001b[0;34m)\u001b[0m\u001b[0;34m\u001b[0m\u001b[0;34m\u001b[0m\u001b[0m\n",
            "\u001b[0;31mIndexError\u001b[0m: list index out of range"
          ]
        }
      ]
    },
    {
      "cell_type": "code",
      "metadata": {
        "id": "xVOLnYN3CH4T",
        "colab_type": "code",
        "colab": {
          "base_uri": "https://localhost:8080/",
          "height": 51
        },
        "outputId": "ebf7815a-be0e-4b80-bc0e-04cbbef82485"
      },
      "source": [
        "# 10 \n",
        "n = int(input(\"Number of terms \"))\n",
        "a = 1\n",
        "print(a, end = \" \")\n",
        "for i in range(1,n+1) :\n",
        "  i = a * 3\n",
        "  a = i\n",
        "  print(i,end = \" \")"
      ],
      "execution_count": 90,
      "outputs": [
        {
          "output_type": "stream",
          "text": [
            "Number of terms 10\n",
            "1 3 9 27 81 243 729 2187 6561 19683 59049 "
          ],
          "name": "stdout"
        }
      ]
    },
    {
      "cell_type": "code",
      "metadata": {
        "id": "K4PHl-Y1CJTW",
        "colab_type": "code",
        "colab": {
          "base_uri": "https://localhost:8080/",
          "height": 51
        },
        "outputId": "cafd526a-9867-45b8-e6a9-62969bb71129"
      },
      "source": [
        "# 11\n",
        "n = int(input(\"Number of terms \"))\n",
        "a = 1\n",
        "print(a, end = \" \")\n",
        "for i in range(1,n+1) :\n",
        "  i = a * 2\n",
        "  a = i\n",
        "  print(i,end = \" \")"
      ],
      "execution_count": 91,
      "outputs": [
        {
          "output_type": "stream",
          "text": [
            "Number of terms 10\n",
            "1 2 4 8 16 32 64 128 256 512 1024 "
          ],
          "name": "stdout"
        }
      ]
    },
    {
      "cell_type": "code",
      "metadata": {
        "id": "5ZsjiOXTFSOp",
        "colab_type": "code",
        "colab": {}
      },
      "source": [
        "# 14\n",
        "n = int(input(\"Number of terms \"))\n",
        "sum = 0\n",
        "fact = 1\n",
        "for i in range(1,n+1) :\n",
        "  for x in range(1,i+1) :\n",
        "    fact = fact * x\n",
        "  print(fact)\n",
        "  sum = sum + fact\n",
        "print(\"sum = \",sum)"
      ],
      "execution_count": 0,
      "outputs": []
    }
  ]
}